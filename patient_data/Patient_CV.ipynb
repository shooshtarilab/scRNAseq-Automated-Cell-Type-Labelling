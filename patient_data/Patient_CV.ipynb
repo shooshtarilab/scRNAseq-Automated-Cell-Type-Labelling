{
 "cells": [
  {
   "cell_type": "code",
   "execution_count": 14,
   "id": "unlimited-greene",
   "metadata": {},
   "outputs": [],
   "source": [
    "import pandas as pd\n",
    "import numpy as np"
   ]
  },
  {
   "cell_type": "code",
   "execution_count": 16,
   "id": "sharp-vacation",
   "metadata": {},
   "outputs": [],
   "source": [
    "dataset = 'melanoma'\n",
    "data_folder = 'GSE115978'\n",
    "info_dir = './patient_info_files/'+dataset+'/'\n",
    "\n",
    "df = pd.read_csv(info_dir+dataset+'_patients.tsv', '\\t')"
   ]
  },
  {
   "cell_type": "code",
   "execution_count": 18,
   "id": "initial-dating",
   "metadata": {},
   "outputs": [
    {
     "data": {
      "text/html": [
       "<div>\n",
       "<style scoped>\n",
       "    .dataframe tbody tr th:only-of-type {\n",
       "        vertical-align: middle;\n",
       "    }\n",
       "\n",
       "    .dataframe tbody tr th {\n",
       "        vertical-align: top;\n",
       "    }\n",
       "\n",
       "    .dataframe thead th {\n",
       "        text-align: right;\n",
       "    }\n",
       "</style>\n",
       "<table border=\"1\" class=\"dataframe\">\n",
       "  <thead>\n",
       "    <tr style=\"text-align: right;\">\n",
       "      <th></th>\n",
       "      <th>cells</th>\n",
       "      <th>Patient</th>\n",
       "      <th>1</th>\n",
       "      <th>2</th>\n",
       "      <th>celltype</th>\n",
       "      <th>malignant</th>\n",
       "    </tr>\n",
       "  </thead>\n",
       "  <tbody>\n",
       "    <tr>\n",
       "      <th>0</th>\n",
       "      <td>Cy72_CD45_H02_S758_comb</td>\n",
       "      <td>72.0</td>\n",
       "      <td>1.0</td>\n",
       "      <td>2.0</td>\n",
       "      <td>B</td>\n",
       "      <td>no</td>\n",
       "    </tr>\n",
       "    <tr>\n",
       "      <th>1</th>\n",
       "      <td>CY58_1_CD45_B02_S974_comb</td>\n",
       "      <td>58.0</td>\n",
       "      <td>1.0</td>\n",
       "      <td>1.0</td>\n",
       "      <td>T</td>\n",
       "      <td>no</td>\n",
       "    </tr>\n",
       "    <tr>\n",
       "      <th>2</th>\n",
       "      <td>Cy71_CD45_D08_S524_comb</td>\n",
       "      <td>71.0</td>\n",
       "      <td>2.0</td>\n",
       "      <td>0.0</td>\n",
       "      <td>Mal</td>\n",
       "      <td>yes</td>\n",
       "    </tr>\n",
       "    <tr>\n",
       "      <th>3</th>\n",
       "      <td>Cy81_FNA_CD45_B01_S301_comb</td>\n",
       "      <td>81.0</td>\n",
       "      <td>2.0</td>\n",
       "      <td>0.0</td>\n",
       "      <td>Mal</td>\n",
       "      <td>yes</td>\n",
       "    </tr>\n",
       "    <tr>\n",
       "      <th>4</th>\n",
       "      <td>Cy80_II_CD45_B07_S883_comb</td>\n",
       "      <td>80.0</td>\n",
       "      <td>2.0</td>\n",
       "      <td>0.0</td>\n",
       "      <td>Mal</td>\n",
       "      <td>yes</td>\n",
       "    </tr>\n",
       "  </tbody>\n",
       "</table>\n",
       "</div>"
      ],
      "text/plain": [
       "                         cells  Patient    1    2 celltype malignant\n",
       "0      Cy72_CD45_H02_S758_comb     72.0  1.0  2.0        B        no\n",
       "1    CY58_1_CD45_B02_S974_comb     58.0  1.0  1.0        T        no\n",
       "2      Cy71_CD45_D08_S524_comb     71.0  2.0  0.0      Mal       yes\n",
       "3  Cy81_FNA_CD45_B01_S301_comb     81.0  2.0  0.0      Mal       yes\n",
       "4   Cy80_II_CD45_B07_S883_comb     80.0  2.0  0.0      Mal       yes"
      ]
     },
     "execution_count": 18,
     "metadata": {},
     "output_type": "execute_result"
    }
   ],
   "source": [
    "df.head()"
   ]
  },
  {
   "cell_type": "code",
   "execution_count": 19,
   "id": "fantastic-anthropology",
   "metadata": {},
   "outputs": [],
   "source": [
    "clist = list(pd.read_csv('path_to_data_folder'+data_folder+'/celllist.tsv', header=None).iloc[:,0])"
   ]
  },
  {
   "cell_type": "code",
   "execution_count": 20,
   "id": "musical-retention",
   "metadata": {},
   "outputs": [
    {
     "name": "stdout",
     "output_type": "stream",
     "text": [
      "(4097, 6)\n"
     ]
    }
   ],
   "source": [
    "#Only keep cells that have patient info\n",
    "df = df.loc[df['cells'].isin(clist)]\n",
    "print(df.shape)"
   ]
  },
  {
   "cell_type": "code",
   "execution_count": 21,
   "id": "guided-thriller",
   "metadata": {},
   "outputs": [
    {
     "data": {
      "text/html": [
       "<div>\n",
       "<style scoped>\n",
       "    .dataframe tbody tr th:only-of-type {\n",
       "        vertical-align: middle;\n",
       "    }\n",
       "\n",
       "    .dataframe tbody tr th {\n",
       "        vertical-align: top;\n",
       "    }\n",
       "\n",
       "    .dataframe thead th {\n",
       "        text-align: right;\n",
       "    }\n",
       "</style>\n",
       "<table border=\"1\" class=\"dataframe\">\n",
       "  <thead>\n",
       "    <tr style=\"text-align: right;\">\n",
       "      <th></th>\n",
       "      <th>cells</th>\n",
       "      <th>Patient</th>\n",
       "      <th>1</th>\n",
       "      <th>2</th>\n",
       "      <th>celltype</th>\n",
       "      <th>malignant</th>\n",
       "    </tr>\n",
       "  </thead>\n",
       "  <tbody>\n",
       "    <tr>\n",
       "      <th>0</th>\n",
       "      <td>Cy72_CD45_H02_S758_comb</td>\n",
       "      <td>72.0</td>\n",
       "      <td>1.0</td>\n",
       "      <td>2.0</td>\n",
       "      <td>B</td>\n",
       "      <td>no</td>\n",
       "    </tr>\n",
       "    <tr>\n",
       "      <th>1</th>\n",
       "      <td>CY58_1_CD45_B02_S974_comb</td>\n",
       "      <td>58.0</td>\n",
       "      <td>1.0</td>\n",
       "      <td>1.0</td>\n",
       "      <td>T</td>\n",
       "      <td>no</td>\n",
       "    </tr>\n",
       "    <tr>\n",
       "      <th>2</th>\n",
       "      <td>Cy71_CD45_D08_S524_comb</td>\n",
       "      <td>71.0</td>\n",
       "      <td>2.0</td>\n",
       "      <td>0.0</td>\n",
       "      <td>Mal</td>\n",
       "      <td>yes</td>\n",
       "    </tr>\n",
       "    <tr>\n",
       "      <th>3</th>\n",
       "      <td>Cy81_FNA_CD45_B01_S301_comb</td>\n",
       "      <td>81.0</td>\n",
       "      <td>2.0</td>\n",
       "      <td>0.0</td>\n",
       "      <td>Mal</td>\n",
       "      <td>yes</td>\n",
       "    </tr>\n",
       "    <tr>\n",
       "      <th>4</th>\n",
       "      <td>Cy80_II_CD45_B07_S883_comb</td>\n",
       "      <td>80.0</td>\n",
       "      <td>2.0</td>\n",
       "      <td>0.0</td>\n",
       "      <td>Mal</td>\n",
       "      <td>yes</td>\n",
       "    </tr>\n",
       "  </tbody>\n",
       "</table>\n",
       "</div>"
      ],
      "text/plain": [
       "                         cells  Patient    1    2 celltype malignant\n",
       "0      Cy72_CD45_H02_S758_comb     72.0  1.0  2.0        B        no\n",
       "1    CY58_1_CD45_B02_S974_comb     58.0  1.0  1.0        T        no\n",
       "2      Cy71_CD45_D08_S524_comb     71.0  2.0  0.0      Mal       yes\n",
       "3  Cy81_FNA_CD45_B01_S301_comb     81.0  2.0  0.0      Mal       yes\n",
       "4   Cy80_II_CD45_B07_S883_comb     80.0  2.0  0.0      Mal       yes"
      ]
     },
     "execution_count": 21,
     "metadata": {},
     "output_type": "execute_result"
    }
   ],
   "source": [
    "df.head()"
   ]
  },
  {
   "cell_type": "code",
   "execution_count": 22,
   "id": "collect-remedy",
   "metadata": {},
   "outputs": [
    {
     "name": "stdout",
     "output_type": "stream",
     "text": [
      "19\n"
     ]
    }
   ],
   "source": [
    "patient_list = list(set(df['Patient']))\n",
    "pNum = len(patient_list)\n",
    "print(pNum)\n",
    "ind = np.arange(pNum)"
   ]
  },
  {
   "cell_type": "code",
   "execution_count": 23,
   "id": "chronic-campbell",
   "metadata": {},
   "outputs": [],
   "source": [
    "from sklearn.model_selection import KFold\n",
    "\n",
    "n_fold = 5\n",
    "\n",
    "kf = KFold(n_splits=n_fold, shuffle=True)"
   ]
  },
  {
   "cell_type": "code",
   "execution_count": 24,
   "id": "flexible-solid",
   "metadata": {},
   "outputs": [],
   "source": [
    "CV_data = {}\n",
    "CV_data['test_ind'] = {}\n",
    "CV_data['train_ind'] = {}\n",
    "CV_data['nfolds'] = n_fold\n",
    "# CV_data['col']"
   ]
  },
  {
   "cell_type": "code",
   "execution_count": 25,
   "id": "electronic-christian",
   "metadata": {},
   "outputs": [
    {
     "name": "stdout",
     "output_type": "stream",
     "text": [
      "[53.0, 60.0, 84.0, 89.0]\n",
      "[58.0, 67.0, 71.0, 75.0]\n",
      "[78.0, 80.0, 82.0, 88.0]\n",
      "[59.0, 72.0, 79.0, 81.0]\n",
      "[65.0, 74.0, 94.0]\n"
     ]
    }
   ],
   "source": [
    "j = 0\n",
    "for train_index, test_index in kf.split(ind):\n",
    "    patient_train = [patient_list[i] for i in train_index]\n",
    "    patient_test = [patient_list[i] for i in test_index]\n",
    "    print(patient_test)\n",
    "    \n",
    "    #cell may not be in the list we used in the experiments\n",
    "    cell_train = df.loc[df['Patient'].isin(patient_train),'cells']\n",
    "    cell_test = df.loc[df['Patient'].isin(patient_test),'cells']\n",
    "    \n",
    "    # Add 1 to the index so that the resulted index is consistant to the one generated by R CV script \n",
    "    CV_data['train_ind'][j] = [clist.index(item) for item in list(cell_train.values)]+1\n",
    "    CV_data['test_ind'][j] = [clist.index(item) for item in list(cell_test.values)]+1\n",
    "    \n",
    "    j+=1"
   ]
  },
  {
   "cell_type": "code",
   "execution_count": 26,
   "id": "confident-report",
   "metadata": {},
   "outputs": [],
   "source": [
    "import pickle\n",
    "\n",
    "pickle.dump(CV_data, open(\"./\"+data_folder+\"/CV_data.pkl\", \"wb\"))"
   ]
  },
  {
   "cell_type": "code",
   "execution_count": null,
   "id": "continued-reducing",
   "metadata": {},
   "outputs": [],
   "source": []
  }
 ],
 "metadata": {
  "kernelspec": {
   "display_name": "Python [conda env:scPhere]",
   "language": "python",
   "name": "conda-env-scPhere-py"
  },
  "language_info": {
   "codemirror_mode": {
    "name": "ipython",
    "version": 3
   },
   "file_extension": ".py",
   "mimetype": "text/x-python",
   "name": "python",
   "nbconvert_exporter": "python",
   "pygments_lexer": "ipython3",
   "version": "3.7.0"
  }
 },
 "nbformat": 4,
 "nbformat_minor": 5
}
