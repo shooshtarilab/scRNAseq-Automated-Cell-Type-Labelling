{
 "cells": [
  {
   "cell_type": "code",
   "execution_count": 1,
   "id": "molecular-equivalent",
   "metadata": {},
   "outputs": [],
   "source": [
    "import pandas as pd\n",
    "import numpy as np\n",
    "import matplotlib\n",
    "import matplotlib.pyplot as plt\n",
    "import os"
   ]
  },
  {
   "cell_type": "code",
   "execution_count": 2,
   "id": "southeast-celebration",
   "metadata": {},
   "outputs": [],
   "source": [
    "os.chdir('../path_to_prediction_results')\n",
    "\n",
    "split_list = [\"CaSTLe\",\"Cell_BLAST\",\"kNN9\",\"LAmbDA\",\"LDA\",\"LDArej\",\"NMC\",\"RF\",\n",
    "              \"scmapcell\",\"scmapcluster\",\"scPred\",\"SingleCellNet\",\"SVM\",\"SVMrej\"]\n",
    "total_list = [\"scVI\",\"ACTINN\",\"scID\",\"CHETAH\",\"singleR\"]\n",
    "rank_list = [\"CaSTLe\",\"scVI\",\"SVM\",\"SingleCellNet\",\"ACTINN\",\"SVMrej\",\"singleR\",\n",
    "             \"LDA\",\"LDArej\",\"RF\",\"CHETAH\",\"LAmbDA\",\"kNN9\",\"scmapcell\",\"NMC\",\n",
    "             \"scPred\",\"Cell_BLAST\",\"scID\",\"scmapcluster\"]\n",
    "erik_list = ['gsva','ora','cibersort','sccatch','gsea','adobo','metaneighbor']\n",
    "\n",
    "\n",
    "dataset_list = ['Tirosh_Melanoma','Chung_BC','Li_CRC','JA_Melanoma','Darmanis_GBM',\n",
    "                'vanGalan_AML','Lambrechts_LC','Peng_PC']\n",
    "\n",
    "N = 19\n",
    "\n",
    "# cell-based algorithms' time\n",
    "trainM = np.load(\"mean_train.npy\")\n",
    "testM = np.load(\"mean_test.npy\")\n",
    "trainStd = np.load(\"std_train.npy\")\n",
    "testStd = np.load(\"std_test.npy\")\n",
    "\n",
    "ttM = np.load(\"mean_total.npy\")\n",
    "ttS = np.load(\"std_total.npy\")\n",
    "\n",
    "# clustering-based algorithms' time\n",
    "seurat_time = np.load('/Users/pluo/Project/Parisa/Time/Erik/seurat_time.npy')\n",
    "\n",
    "cluster_time = np.array([4.52940433422724, 1.18159772157669, 1.40544383525848, 9.46595265070597, 3.9286373813947,\n",
    "                         28.5646874944369, 23.2505677700043, 28.5458539287249])*60\n",
    "cluster_time = np.log1p(cluster_time)\n",
    "\n",
    "tm_cluster = np.zeros((8,7))\n",
    "for j in range(8):\n",
    "    tm_cluster[j,:] = [cluster_time[j] for k in range(7)]\n",
    "\n",
    "tm_cluster[5:8,3] = 0  #'sccatch'\n",
    "tm_cluster[5:7,5] = 0  #'adobo'"
   ]
  },
  {
   "cell_type": "code",
   "execution_count": 3,
   "id": "aboriginal-tongue",
   "metadata": {},
   "outputs": [
    {
     "data": {
      "text/plain": [
       "<Figure size 432x288 with 0 Axes>"
      ]
     },
     "metadata": {},
     "output_type": "display_data"
    },
    {
     "data": {
      "text/plain": [
       "<Figure size 432x288 with 0 Axes>"
      ]
     },
     "metadata": {},
     "output_type": "display_data"
    },
    {
     "data": {
      "text/plain": [
       "<Figure size 432x288 with 0 Axes>"
      ]
     },
     "metadata": {},
     "output_type": "display_data"
    },
    {
     "data": {
      "text/plain": [
       "<Figure size 432x288 with 0 Axes>"
      ]
     },
     "metadata": {},
     "output_type": "display_data"
    },
    {
     "data": {
      "text/plain": [
       "<Figure size 432x288 with 0 Axes>"
      ]
     },
     "metadata": {},
     "output_type": "display_data"
    },
    {
     "data": {
      "text/plain": [
       "<Figure size 432x288 with 0 Axes>"
      ]
     },
     "metadata": {},
     "output_type": "display_data"
    },
    {
     "data": {
      "text/plain": [
       "<Figure size 432x288 with 0 Axes>"
      ]
     },
     "metadata": {},
     "output_type": "display_data"
    },
    {
     "data": {
      "text/plain": [
       "<Figure size 432x288 with 0 Axes>"
      ]
     },
     "metadata": {},
     "output_type": "display_data"
    }
   ],
   "source": [
    "#Draw the plot\n",
    "ind_split = [k for k in range(N) if rank_list[k] in split_list]\n",
    "ind_total = [k for k in range(N) if rank_list[k] in total_list]\n",
    "ind_erik = [(k+N) for k in range(7)]\n",
    "width = 0.4\n",
    "\n",
    "mind_split = [split_list.index(item) for item in rank_list if item in split_list]\n",
    "mind_total = [total_list.index(item) for item in rank_list if item in total_list]\n",
    "\n",
    "\n",
    "for j in range(8):\n",
    "    f, ax = plt.subplots(1, 1)\n",
    "    p1 = ax.bar(ind_split, trainM[:,j][mind_split], width, yerr=trainStd[:,j][mind_split], color='darkgreen')\n",
    "    p2 = plt.bar(ind_split, testM[:,j][mind_split], width, bottom=trainM[:,j][mind_split], yerr=testStd[:,j][mind_split], color='lightgreen')\n",
    "    p3 = plt.bar(ind_total, ttM[14:19,j][mind_total], width, yerr=ttS[14:19,j][mind_total], color='olivedrab')\n",
    "    \n",
    "    p4 = plt.bar(ind_erik, seurat_time[:,j], width, color='midnightblue')\n",
    "    p5 = plt.bar(ind_erik, tm_cluster[j], width, bottom=seurat_time[:,j], color='skyblue')\n",
    "\n",
    "    plt.ylabel('Time (log1p(s))')\n",
    "    plt.ylim([0,18])\n",
    "    plt.title('Running time on '+dataset_list[j])\n",
    "    plt.xticks(np.arange(N+7), rank_list+erik_list)\n",
    "    plt.xticks(rotation = 60, ha=\"right\")\n",
    "    \n",
    "    axc = ['black' for i in range(19)]+['red' for i in range(7)]\n",
    "    for xtick, col in zip(ax.get_xticklabels(), axc):\n",
    "        xtick.set_color(col)\n",
    "    # plt.yticks(np.arange(0, 81, 10))\n",
    "    plt.legend((p1[0], p2[0], p3[0], p4[0], p5[0]), ('Training', 'Testing', 'Total', 'Predicting', 'Clustering'),\n",
    "              fontsize='x-small', loc='upper left')\n",
    "\n",
    "    #plt.show()\n",
    "    plt.savefig('logBar_'+dataset_list[j]+'.png', bbox_inches='tight', dpi=600)\n",
    "    plt.clf()"
   ]
  },
  {
   "cell_type": "code",
   "execution_count": null,
   "id": "solar-specialist",
   "metadata": {},
   "outputs": [],
   "source": []
  }
 ],
 "metadata": {
  "kernelspec": {
   "display_name": "Python [conda env:scPhere]",
   "language": "python",
   "name": "conda-env-scPhere-py"
  },
  "language_info": {
   "codemirror_mode": {
    "name": "ipython",
    "version": 3
   },
   "file_extension": ".py",
   "mimetype": "text/x-python",
   "name": "python",
   "nbconvert_exporter": "python",
   "pygments_lexer": "ipython3",
   "version": "3.7.0"
  }
 },
 "nbformat": 4,
 "nbformat_minor": 5
}
