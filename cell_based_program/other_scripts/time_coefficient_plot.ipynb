{
 "cells": [
  {
   "cell_type": "code",
   "execution_count": 1,
   "id": "atlantic-hawaiian",
   "metadata": {},
   "outputs": [],
   "source": [
    "import pandas as pd\n",
    "import numpy as np\n",
    "from sklearn.linear_model import LinearRegression\n",
    "import seaborn as sns\n",
    "import matplotlib.pyplot as plt\n",
    "from sklearn import preprocessing"
   ]
  },
  {
   "cell_type": "code",
   "execution_count": 2,
   "id": "hollow-market",
   "metadata": {},
   "outputs": [],
   "source": [
    "tm = pd.read_csv('path_to_time_folder/cell_total_mean.tsv', sep='\\t', index_col=0)"
   ]
  },
  {
   "cell_type": "code",
   "execution_count": 3,
   "id": "twenty-biotechnology",
   "metadata": {},
   "outputs": [],
   "source": [
    "tm_cluster = np.load('./cluster/seurat_time.npy')\n",
    "tm_cluster = np.expm1(tm_cluster)\n",
    "tm_seurat = np.array([4.52940433422724, 1.18159772157669, 1.40544383525848, 9.46595265070597, 3.9286373813947,\n",
    "              28.5646874944369, 23.2505677700043, 28.5458539287249])*60\n",
    "tm_cluster = tm_cluster + tm_seurat\n",
    "tm_cluster = pd.DataFrame(tm_cluster, index = ['gsva','ora','cibersort',\n",
    "                       'sccatch','gsea','adobo','metaneighbor'], columns = tm.columns.values)\n",
    "tm_cluster.iloc[3,5:8] = 0  #'sccatch'\n",
    "tm_cluster.iloc[5,5:7] = 0  #'adobo'"
   ]
  },
  {
   "cell_type": "code",
   "execution_count": 4,
   "id": "framed-morocco",
   "metadata": {},
   "outputs": [
    {
     "data": {
      "text/html": [
       "<div>\n",
       "<style scoped>\n",
       "    .dataframe tbody tr th:only-of-type {\n",
       "        vertical-align: middle;\n",
       "    }\n",
       "\n",
       "    .dataframe tbody tr th {\n",
       "        vertical-align: top;\n",
       "    }\n",
       "\n",
       "    .dataframe thead th {\n",
       "        text-align: right;\n",
       "    }\n",
       "</style>\n",
       "<table border=\"1\" class=\"dataframe\">\n",
       "  <thead>\n",
       "    <tr style=\"text-align: right;\">\n",
       "      <th></th>\n",
       "      <th>Tirosh_Melanoma</th>\n",
       "      <th>Chung_BC</th>\n",
       "      <th>Li_CRC</th>\n",
       "      <th>JA_Melanoma</th>\n",
       "      <th>Darmanis_GBM</th>\n",
       "      <th>vanGalan_AML</th>\n",
       "      <th>Lambrechts_LC</th>\n",
       "      <th>Peng_PC</th>\n",
       "    </tr>\n",
       "  </thead>\n",
       "  <tbody>\n",
       "    <tr>\n",
       "      <th>gsva</th>\n",
       "      <td>281.42526</td>\n",
       "      <td>81.187863</td>\n",
       "      <td>99.51763</td>\n",
       "      <td>576.817159</td>\n",
       "      <td>245.779243</td>\n",
       "      <td>1723.95425</td>\n",
       "      <td>1404.764066</td>\n",
       "      <td>1722.661236</td>\n",
       "    </tr>\n",
       "    <tr>\n",
       "      <th>ora</th>\n",
       "      <td>286.08226</td>\n",
       "      <td>81.553863</td>\n",
       "      <td>95.12663</td>\n",
       "      <td>584.073159</td>\n",
       "      <td>250.456243</td>\n",
       "      <td>1724.63925</td>\n",
       "      <td>1418.110066</td>\n",
       "      <td>1744.514236</td>\n",
       "    </tr>\n",
       "    <tr>\n",
       "      <th>cibersort</th>\n",
       "      <td>337.01026</td>\n",
       "      <td>136.756863</td>\n",
       "      <td>149.38063</td>\n",
       "      <td>661.463159</td>\n",
       "      <td>296.369243</td>\n",
       "      <td>1797.69425</td>\n",
       "      <td>1461.947066</td>\n",
       "      <td>15055.309236</td>\n",
       "    </tr>\n",
       "    <tr>\n",
       "      <th>sccatch</th>\n",
       "      <td>479.67626</td>\n",
       "      <td>169.748863</td>\n",
       "      <td>163.52663</td>\n",
       "      <td>846.923159</td>\n",
       "      <td>341.760243</td>\n",
       "      <td>0.00000</td>\n",
       "      <td>0.000000</td>\n",
       "      <td>0.000000</td>\n",
       "    </tr>\n",
       "    <tr>\n",
       "      <th>gsea</th>\n",
       "      <td>369.53726</td>\n",
       "      <td>131.542863</td>\n",
       "      <td>130.83663</td>\n",
       "      <td>691.261159</td>\n",
       "      <td>358.367243</td>\n",
       "      <td>1789.68825</td>\n",
       "      <td>1552.964066</td>\n",
       "      <td>2320.169236</td>\n",
       "    </tr>\n",
       "    <tr>\n",
       "      <th>adobo</th>\n",
       "      <td>364.93726</td>\n",
       "      <td>207.190863</td>\n",
       "      <td>190.65863</td>\n",
       "      <td>1703.777159</td>\n",
       "      <td>885.027243</td>\n",
       "      <td>0.00000</td>\n",
       "      <td>0.000000</td>\n",
       "      <td>13681.295236</td>\n",
       "    </tr>\n",
       "    <tr>\n",
       "      <th>metaneighbor</th>\n",
       "      <td>309.40226</td>\n",
       "      <td>108.373863</td>\n",
       "      <td>172.35563</td>\n",
       "      <td>605.410159</td>\n",
       "      <td>260.922243</td>\n",
       "      <td>1744.83625</td>\n",
       "      <td>1431.680066</td>\n",
       "      <td>1754.508236</td>\n",
       "    </tr>\n",
       "  </tbody>\n",
       "</table>\n",
       "</div>"
      ],
      "text/plain": [
       "              Tirosh_Melanoma    Chung_BC     Li_CRC  JA_Melanoma  \\\n",
       "gsva                281.42526   81.187863   99.51763   576.817159   \n",
       "ora                 286.08226   81.553863   95.12663   584.073159   \n",
       "cibersort           337.01026  136.756863  149.38063   661.463159   \n",
       "sccatch             479.67626  169.748863  163.52663   846.923159   \n",
       "gsea                369.53726  131.542863  130.83663   691.261159   \n",
       "adobo               364.93726  207.190863  190.65863  1703.777159   \n",
       "metaneighbor        309.40226  108.373863  172.35563   605.410159   \n",
       "\n",
       "              Darmanis_GBM  vanGalan_AML  Lambrechts_LC       Peng_PC  \n",
       "gsva            245.779243    1723.95425    1404.764066   1722.661236  \n",
       "ora             250.456243    1724.63925    1418.110066   1744.514236  \n",
       "cibersort       296.369243    1797.69425    1461.947066  15055.309236  \n",
       "sccatch         341.760243       0.00000       0.000000      0.000000  \n",
       "gsea            358.367243    1789.68825    1552.964066   2320.169236  \n",
       "adobo           885.027243       0.00000       0.000000  13681.295236  \n",
       "metaneighbor    260.922243    1744.83625    1431.680066   1754.508236  "
      ]
     },
     "execution_count": 4,
     "metadata": {},
     "output_type": "execute_result"
    }
   ],
   "source": [
    "tm_cluster"
   ]
  },
  {
   "cell_type": "code",
   "execution_count": 4,
   "id": "smoking-offset",
   "metadata": {},
   "outputs": [],
   "source": [
    "tm = pd.concat((tm, tm_cluster))"
   ]
  },
  {
   "cell_type": "code",
   "execution_count": 5,
   "id": "social-ridge",
   "metadata": {},
   "outputs": [],
   "source": [
    "tm = tm.apply(np.log1p)"
   ]
  },
  {
   "cell_type": "code",
   "execution_count": 7,
   "id": "identical-pricing",
   "metadata": {},
   "outputs": [],
   "source": [
    "cell_list = [359,515,3589,4645,6879,21934,51775,57530]\n",
    "gene_list = [22533,23465,23686,23686,24005,27899,57241,57915]\n",
    "type_list = [5,5,6,7,7,9,10,17]\n",
    "\n",
    "dataset_list = ['Tirosh','Chung','Li','Jerby Arnon','Darmanis',\n",
    "                'van Galan','Lambrechts','Peng']\n",
    "order_by_cell = ['Li','Chung','Darmanis','Tirosh','Jerby Arnon','van Galan',\n",
    "                 'Lambrechts','Peng']\n",
    "order_by_gene = ['Lambrechts','Darmanis','Tirosh','Jerby Arnon','Peng',\n",
    "                 'van Galan','Li','Chung']\n",
    "order_by_type = ['Li','Chung','van Galan','Tirosh','Darmanis','Jerby Arnon',\n",
    "                'Peng','Lambrechts']\n",
    "\n",
    "cell_list = [cell_list[order_by_cell.index(item)] for item in dataset_list]\n",
    "gene_list = [gene_list[order_by_gene.index(item)] for item in dataset_list]\n",
    "type_list = [type_list[order_by_type.index(item)] for item in dataset_list]"
   ]
  },
  {
   "cell_type": "code",
   "execution_count": 8,
   "id": "handmade-hardwood",
   "metadata": {},
   "outputs": [],
   "source": [
    "X = np.array([cell_list,gene_list,type_list])\n",
    "X = X.astype(np.float64)\n",
    "X = X.T\n",
    "#X[0,:] = X[0,:] / 1000\n",
    "#X[1,:] = X[1,:] / 1000"
   ]
  },
  {
   "cell_type": "code",
   "execution_count": 9,
   "id": "solid-station",
   "metadata": {},
   "outputs": [],
   "source": [
    "#normalize\n",
    "scaler = preprocessing.StandardScaler().fit(X)\n",
    "X_scaled = scaler.transform(X)"
   ]
  },
  {
   "cell_type": "code",
   "execution_count": 10,
   "id": "dedicated-iceland",
   "metadata": {},
   "outputs": [
    {
     "data": {
      "text/plain": [
       "array([1., 1., 1.])"
      ]
     },
     "execution_count": 10,
     "metadata": {},
     "output_type": "execute_result"
    }
   ],
   "source": [
    "X_scaled.std(axis=0)"
   ]
  },
  {
   "cell_type": "code",
   "execution_count": 11,
   "id": "stock-awareness",
   "metadata": {},
   "outputs": [],
   "source": [
    "lr = LinearRegression()"
   ]
  },
  {
   "cell_type": "code",
   "execution_count": 12,
   "id": "cultural-asset",
   "metadata": {},
   "outputs": [],
   "source": [
    "mcoef = np.zeros((tm.shape[0],3))\n",
    "method_list = [\"CaSTLe\",\"Cell_BLAST\",\"kNN9\",\"LAmbDA\",\"LDA\",\"LDArej\",\"NMC\",\"RF\",\n",
    "                \"scmapcell\",\"scmapcluster\",\"scPred\",\"SingleCellNet\",\"SVM\",\"SVMrej\",\n",
    "                \"scVI\",\"ACTINN\",\"scID\",\"CHETAH\",\"singleR\",'gsva','ora','cibersort',\n",
    "                'sccatch','gsea','adobo','metaneighbor']\n",
    "\n",
    "index_list = [\"CaSTLe\",\"Cell_BLAST\",\"kNN9\",\"LAmbDA\",\"LDA\",\"LDArej\",\"NMC\",\"RF\",\n",
    "                \"scmapcell\",\"scmapcluster\",\"scPred\",\"SingleCellNet\",\"SVM\",\"SVMrej\",\n",
    "                \"scANVI\",\"ACTINN\",\"scID\",\"CHETAH\",\"singleR\",'gsva','ora','cibersort',\n",
    "                'sccatch','gsea','adobo','metaneighbor']\n",
    "\n",
    "for j in range(len(method_list)):\n",
    "    if method_list[j] in [\"LDA\",\"LDArej\",\"scPred\"]:\n",
    "        y = list(tm.loc[method_list[j]])[:-1]\n",
    "        lr.fit(X_scaled[0:7,:], y)\n",
    "        mcoef[j] = lr.coef_\n",
    "    elif method_list[j] == 'sccatch':\n",
    "        y = list(tm.loc['sccatch'])[:-3]\n",
    "        lr.fit(X_scaled[0:5,:], y)\n",
    "        mcoef[j] = lr.coef_\n",
    "    elif method_list[j] == 'adobo':\n",
    "        y = list(tm.iloc[j,:5])\n",
    "        y = y + [tm.loc['adobo','Peng_PC']]\n",
    "        lr.fit(np.delete(X_scaled, [5,6], 0), y)\n",
    "        mcoef[j] = lr.coef_\n",
    "    else:\n",
    "        y = list(tm.loc[method_list[j]])\n",
    "        lr.fit(X_scaled, y)\n",
    "        mcoef[j] = lr.coef_"
   ]
  },
  {
   "cell_type": "code",
   "execution_count": 13,
   "id": "crude-harris",
   "metadata": {},
   "outputs": [],
   "source": [
    "df_coef = pd.DataFrame(mcoef, index=index_list, columns=['cell','gene','type'])"
   ]
  },
  {
   "cell_type": "code",
   "execution_count": 15,
   "id": "absent-auditor",
   "metadata": {},
   "outputs": [
    {
     "data": {
      "image/png": "[encoded data removed]",
      "text/plain": [
       "<Figure size 432x720 with 2 Axes>"
      ]
     },
     "metadata": {
      "needs_background": "light"
     },
     "output_type": "display_data"
    }
   ],
   "source": [
    "f, ax = plt.subplots(1, 1, figsize=(6,10))\n",
    "\n",
    "#cbar_ax = f.add_axes([.905, .3, .05, .3])\n",
    "colour = sns.cubehelix_palette(start=.5, rot=-.4, reverse=False, as_cmap=True)\n",
    "\n",
    "sns.heatmap(df_coef, cmap=colour, square=True, annot=False, \n",
    "            cbar_kws={'label': \"coefficient\", \"shrink\": .7})\n",
    "ax.set_xticklabels(df_coef.columns.values, rotation = 45, ha=\"right\")\n",
    "\n",
    "axc = ['black' for i in range(19)]+['red' for i in range(7)]\n",
    "for ytick, col in zip(ax.get_yticklabels(), axc):\n",
    "    ytick.set_color(col)\n",
    "#ax.title.set_text('Running time by No. of cells')\n",
    "plt.savefig(\"Heatmap_coef.png\", bbox_inches='tight', dpi=600)\n",
    "#plt.show()"
   ]
  },
  {
   "cell_type": "code",
   "execution_count": 16,
   "id": "convertible-population",
   "metadata": {},
   "outputs": [],
   "source": [
    "df_coef.to_csv('df_coef.tsv', sep='\\t')"
   ]
  },
  {
   "cell_type": "code",
   "execution_count": null,
   "id": "passive-reservation",
   "metadata": {},
   "outputs": [],
   "source": []
  }
 ],
 "metadata": {
  "kernelspec": {
   "display_name": "Python [conda env:scPhere]",
   "language": "python",
   "name": "conda-env-scPhere-py"
  },
  "language_info": {
   "codemirror_mode": {
    "name": "ipython",
    "version": 3
   },
   "file_extension": ".py",
   "mimetype": "text/x-python",
   "name": "python",
   "nbconvert_exporter": "python",
   "pygments_lexer": "ipython3",
   "version": "3.7.0"
  }
 },
 "nbformat": 4,
 "nbformat_minor": 5
}
