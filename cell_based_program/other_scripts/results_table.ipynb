{
 "cells": [
  {
   "cell_type": "code",
   "execution_count": 1,
   "id": "waiting-reverse",
   "metadata": {},
   "outputs": [],
   "source": [
    "import pandas as pd\n",
    "import os.path\n",
    "import pickle\n",
    "import numpy as np"
   ]
  },
  {
   "cell_type": "code",
   "execution_count": 2,
   "id": "whole-horse",
   "metadata": {},
   "outputs": [],
   "source": [
    "main_dir = 'path_to_prediction_results'\n",
    "output_dir = 'path_to_output_folder'\n",
    "\n",
    "dataset = 'GSE72056'\n",
    "\n",
    "method_list = [\"SVM\", \"SVMrej\", \"RF\", \"LDA\", \"LDArej\", \"NMC\", \"kNN9\",\n",
    "                \"ACTINN\",\"SingleCellNet\", \"LAmbDA\",\n",
    "                \"scPred\", \"CaSTLe\",\"CHETAH\", \"scID\",\n",
    "                \"scmapcell\", \"scmapcluster\", \"singleR\", \"scVI\", \"Cell_BLAST\"]\n",
    "\n",
    "datasetDic = {'GSE72056':'Tirosh_Melanoma',\n",
    "              'GSE81861':'Li_CRC',\n",
    "              'GSE75688':'Chung_BC',\n",
    "              'GSE115978':'JA_Melanoma',\n",
    "              'Lambrechts':'Lambrechts_LC',\n",
    "              'GSE84465':'Darmanis_GBM',\n",
    "              'GSE116256':'vanGalan_AML',\n",
    "              'Peng':'Peng_PC'}"
   ]
  },
  {
   "cell_type": "code",
   "execution_count": 3,
   "id": "global-briefing",
   "metadata": {},
   "outputs": [
    {
     "name": "stdout",
     "output_type": "stream",
     "text": [
      "scPred\n"
     ]
    }
   ],
   "source": [
    "cell_list = pd.read_csv(main_dir + dataset +'/celllist.tsv', header=None)\n",
    "cell_list = list(cell_list.iloc[:,0])\n",
    "\n",
    "results = {}\n",
    "\n",
    "with open(main_dir+dataset+'/CV_data.pkl', 'rb') as f:\n",
    "    CV_data = pickle.load(f)\n",
    "test_ind = CV_data['test_ind']\n",
    "\n",
    "cell_id_order = []\n",
    "for i in range(CV_data['nfolds']):\n",
    "    test_ind_i = np.array(test_ind[i], dtype = 'int')\n",
    "    cell_id_order += [cell_list[kk] for kk in test_ind_i]\n",
    "\n",
    "TL = pd.read_csv(main_dir + dataset + '/' + 'SVM' + '_True_Labels.csv')\n",
    "\n",
    "results['truth'] = list(TL.iloc[:,0])\n",
    "\n",
    "for method in method_list:\n",
    "    pred_dir = main_dir + dataset + '/' + method + '_Pred_Labels.csv'\n",
    "    if os.path.isfile(pred_dir):\n",
    "        PL = pd.read_csv(pred_dir)\n",
    "        if method == 'LAmbDA':\n",
    "            temp = list(PL.iloc[:,0])\n",
    "            pred_in_order = []\n",
    "            for i in range(CV_data['nfolds']):\n",
    "                test_ind_i = np.array(test_ind[i], dtype = 'int')\n",
    "                pred_in_order += [temp[kk] for kk in test_ind_i]\n",
    "            results[method] = pred_in_order\n",
    "        else:\n",
    "            results[method] = list(PL.iloc[:,0])\n",
    "    else:\n",
    "        print(method)\n",
    "        results[method] = ['UNAVAILABLE' for i in range(len(results['truth']))]\n",
    "\n",
    "df = pd.DataFrame(results, index=cell_id_order)\n",
    "\n",
    "#------Mark all the unlabeled cell into the same terminology-------#\n",
    "for i in range(df.shape[0]):\n",
    "    for j in range(df.shape[1]):\n",
    "        if df.iloc[i,j] == 'unassigned' \\\n",
    "        or df.iloc[i,j] == 'Unassigned' \\\n",
    "        or df.iloc[i,j] == 'Unkno' \\\n",
    "        or df.iloc[i,j] == 'Unknown' \\\n",
    "        or df.iloc[i,j] == 'rand' \\\n",
    "        or df.iloc[i,j] == 'ambiguous' \\\n",
    "        or 'Node' in df.iloc[i,j]:\n",
    "            df.iloc[i,j] = 'UNLABELED'\n",
    "        \n",
    "        df.iloc[i,j] = df.iloc[i,j].upper()\n",
    "        df.iloc[i,j] = df.iloc[i,j].replace(' ','_')\n",
    "\n",
    "# df.to_csv(output_dir + datasetDic[dataset] + '.tsv', sep='\\t')"
   ]
  },
  {
   "cell_type": "code",
   "execution_count": 4,
   "id": "acknowledged-liberty",
   "metadata": {},
   "outputs": [],
   "source": [
    "df.to_csv(output_dir + datasetDic[dataset] + '.tsv', sep='\\t')"
   ]
  }
 ],
 "metadata": {
  "kernelspec": {
   "display_name": "Python [conda env:scPhere]",
   "language": "python",
   "name": "conda-env-scPhere-py"
  },
  "language_info": {
   "codemirror_mode": {
    "name": "ipython",
    "version": 3
   },
   "file_extension": ".py",
   "mimetype": "text/x-python",
   "name": "python",
   "nbconvert_exporter": "python",
   "pygments_lexer": "ipython3",
   "version": "3.7.0"
  }
 },
 "nbformat": 4,
 "nbformat_minor": 5
}
